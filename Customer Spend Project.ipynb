{
 "cells": [
  {
   "cell_type": "markdown",
   "id": "bd42f691",
   "metadata": {},
   "source": [
    "## Customer Spend Project"
   ]
  },
  {
   "cell_type": "markdown",
   "id": "683963e1",
   "metadata": {},
   "source": [
    "**Customer spend project is a detailed analysis of a imaginative store's ideal customers. It helps a business to better understand its customer's spending. The owner of a store gets information about it's Customers through membership cards.** [Data source: kaggle](https://www.kaggle.comdatasetsdatascientistannacustomers-dataset)"
   ]
  },
  {
   "cell_type": "markdown",
   "id": "97582c0e",
   "metadata": {},
   "source": [
    "#### The project seeks to answer the following questions from the store's data:\n",
    "\n",
    "1. Which gender visited the store most and actually spent?\n",
    "2. Which age group spends more money in the shop?\n",
    "3. Are Store customers more of small or larger families?\n",
    "4. What class of profession spends more in the store?"
   ]
  },
  {
   "cell_type": "code",
   "execution_count": 476,
   "id": "bc7d986d",
   "metadata": {},
   "outputs": [],
   "source": [
    "#importing libraries\n",
    "import pandas as pd\n",
    "import seaborn as sns\n",
    "import matplotlib.pyplot as plt\n",
    "\n",
    "# # exporting html\n",
    "# import plotly.io as pio\n",
    "# pio.renderers.default ='notebook'\n",
    "\n",
    "# # exporting PDF\n",
    "# !pip install pyppeteer\n",
    "# !pyppeteer-install"
   ]
  },
  {
   "cell_type": "code",
   "execution_count": 60,
   "id": "0b629ed4",
   "metadata": {},
   "outputs": [
    {
     "data": {
      "text/html": [
       "<div>\n",
       "<style scoped>\n",
       "    .dataframe tbody tr th:only-of-type {\n",
       "        vertical-align: middle;\n",
       "    }\n",
       "\n",
       "    .dataframe tbody tr th {\n",
       "        vertical-align: top;\n",
       "    }\n",
       "\n",
       "    .dataframe thead th {\n",
       "        text-align: right;\n",
       "    }\n",
       "</style>\n",
       "<table border=\"1\" class=\"dataframe\">\n",
       "  <thead>\n",
       "    <tr style=\"text-align: right;\">\n",
       "      <th></th>\n",
       "      <th>CustomerID</th>\n",
       "      <th>Gender</th>\n",
       "      <th>Age</th>\n",
       "      <th>Annual Income ($)</th>\n",
       "      <th>Spending Score (1-100)</th>\n",
       "      <th>Profession</th>\n",
       "      <th>Work Experience</th>\n",
       "      <th>Family Size</th>\n",
       "    </tr>\n",
       "  </thead>\n",
       "  <tbody>\n",
       "    <tr>\n",
       "      <th>0</th>\n",
       "      <td>1</td>\n",
       "      <td>Male</td>\n",
       "      <td>19</td>\n",
       "      <td>15000</td>\n",
       "      <td>39</td>\n",
       "      <td>Healthcare</td>\n",
       "      <td>1</td>\n",
       "      <td>4</td>\n",
       "    </tr>\n",
       "    <tr>\n",
       "      <th>1</th>\n",
       "      <td>2</td>\n",
       "      <td>Male</td>\n",
       "      <td>21</td>\n",
       "      <td>35000</td>\n",
       "      <td>81</td>\n",
       "      <td>Engineer</td>\n",
       "      <td>3</td>\n",
       "      <td>3</td>\n",
       "    </tr>\n",
       "  </tbody>\n",
       "</table>\n",
       "</div>"
      ],
      "text/plain": [
       "   CustomerID Gender  Age  Annual Income ($)  Spending Score (1-100)  \\\n",
       "0           1   Male   19              15000                      39   \n",
       "1           2   Male   21              35000                      81   \n",
       "\n",
       "   Profession  Work Experience  Family Size  \n",
       "0  Healthcare                1            4  \n",
       "1    Engineer                3            3  "
      ]
     },
     "execution_count": 60,
     "metadata": {},
     "output_type": "execute_result"
    }
   ],
   "source": [
    "#importing data set\n",
    "cust = pd.read_csv(r\"C:\\Users\\MR FEM\\Desktop\\Data Analytics\\iPractise\\possible projects - downloaded\\Shop Customer Data\\Customers _proj.csv\")\n",
    "cust.head(2)"
   ]
  },
  {
   "cell_type": "markdown",
   "id": "64104f38",
   "metadata": {},
   "source": [
    "### Exploratory Data Analysis of customer dataframe"
   ]
  },
  {
   "cell_type": "code",
   "execution_count": 61,
   "id": "67f42fea",
   "metadata": {},
   "outputs": [
    {
     "name": "stdout",
     "output_type": "stream",
     "text": [
      "<class 'pandas.core.frame.DataFrame'>\n",
      "RangeIndex: 2000 entries, 0 to 1999\n",
      "Data columns (total 8 columns):\n",
      " #   Column                  Non-Null Count  Dtype \n",
      "---  ------                  --------------  ----- \n",
      " 0   CustomerID              2000 non-null   int64 \n",
      " 1   Gender                  2000 non-null   object\n",
      " 2   Age                     2000 non-null   int64 \n",
      " 3   Annual Income ($)       2000 non-null   int64 \n",
      " 4   Spending Score (1-100)  2000 non-null   int64 \n",
      " 5   Profession              1965 non-null   object\n",
      " 6   Work Experience         2000 non-null   int64 \n",
      " 7   Family Size             2000 non-null   int64 \n",
      "dtypes: int64(6), object(2)\n",
      "memory usage: 125.1+ KB\n"
     ]
    }
   ],
   "source": [
    "cust.info()"
   ]
  },
  {
   "cell_type": "code",
   "execution_count": 62,
   "id": "0752523b",
   "metadata": {},
   "outputs": [
    {
     "data": {
      "text/plain": [
       "Index(['CustomerID', 'Gender', 'Age', 'Annual Income ($)',\n",
       "       'Spending Score (1-100)', 'Profession', 'Work Experience',\n",
       "       'Family Size'],\n",
       "      dtype='object')"
      ]
     },
     "execution_count": 62,
     "metadata": {},
     "output_type": "execute_result"
    }
   ],
   "source": [
    "cust.columns"
   ]
  },
  {
   "cell_type": "code",
   "execution_count": 63,
   "id": "2d40edff",
   "metadata": {},
   "outputs": [
    {
     "data": {
      "text/html": [
       "<div>\n",
       "<style scoped>\n",
       "    .dataframe tbody tr th:only-of-type {\n",
       "        vertical-align: middle;\n",
       "    }\n",
       "\n",
       "    .dataframe tbody tr th {\n",
       "        vertical-align: top;\n",
       "    }\n",
       "\n",
       "    .dataframe thead th {\n",
       "        text-align: right;\n",
       "    }\n",
       "</style>\n",
       "<table border=\"1\" class=\"dataframe\">\n",
       "  <thead>\n",
       "    <tr style=\"text-align: right;\">\n",
       "      <th></th>\n",
       "      <th>CustomerID</th>\n",
       "      <th>Gender</th>\n",
       "      <th>Age</th>\n",
       "      <th>Annual_Income</th>\n",
       "      <th>Spending_Score</th>\n",
       "      <th>Profession</th>\n",
       "      <th>Work_Experience</th>\n",
       "      <th>Family_Size</th>\n",
       "    </tr>\n",
       "  </thead>\n",
       "  <tbody>\n",
       "    <tr>\n",
       "      <th>0</th>\n",
       "      <td>1</td>\n",
       "      <td>Male</td>\n",
       "      <td>19</td>\n",
       "      <td>15000</td>\n",
       "      <td>39</td>\n",
       "      <td>Healthcare</td>\n",
       "      <td>1</td>\n",
       "      <td>4</td>\n",
       "    </tr>\n",
       "    <tr>\n",
       "      <th>1</th>\n",
       "      <td>2</td>\n",
       "      <td>Male</td>\n",
       "      <td>21</td>\n",
       "      <td>35000</td>\n",
       "      <td>81</td>\n",
       "      <td>Engineer</td>\n",
       "      <td>3</td>\n",
       "      <td>3</td>\n",
       "    </tr>\n",
       "  </tbody>\n",
       "</table>\n",
       "</div>"
      ],
      "text/plain": [
       "   CustomerID Gender  Age  Annual_Income  Spending_Score  Profession  \\\n",
       "0           1   Male   19          15000              39  Healthcare   \n",
       "1           2   Male   21          35000              81    Engineer   \n",
       "\n",
       "   Work_Experience  Family_Size  \n",
       "0                1            4  \n",
       "1                3            3  "
      ]
     },
     "execution_count": 63,
     "metadata": {},
     "output_type": "execute_result"
    }
   ],
   "source": [
    "#Renaming columns for uniformity\n",
    "cust.rename(columns = {'Annual Income ($)': 'Annual_Income', 'Spending Score (1-100)': 'Spending_Score', \n",
    "                  'Work Experience':'Work_Experience', 'Family Size': 'Family_Size'}, inplace = True)\n",
    "cust.head(2)"
   ]
  },
  {
   "cell_type": "code",
   "execution_count": 64,
   "id": "fa1c4123",
   "metadata": {},
   "outputs": [
    {
     "data": {
      "image/png": "[encoded data removed]",
      "text/plain": [
       "<Figure size 640x480 with 2 Axes>"
      ]
     },
     "metadata": {},
     "output_type": "display_data"
    }
   ],
   "source": [
    "#identifying null via heatmap\n",
    "sns.heatmap(cust.isnull())\n",
    "plt.show()"
   ]
  },
  {
   "cell_type": "markdown",
   "id": "727371a3",
   "metadata": {},
   "source": [
    "### Q1. Which gender visited the store most and actually spent?"
   ]
  },
  {
   "cell_type": "code",
   "execution_count": 253,
   "id": "6fbaf1a0",
   "metadata": {
    "scrolled": true
   },
   "outputs": [
    {
     "data": {
      "text/plain": [
       "Gender\n",
       "Female    1186\n",
       "Male       814\n",
       "Name: Spending_Score, dtype: int64"
      ]
     },
     "execution_count": 253,
     "metadata": {},
     "output_type": "execute_result"
    }
   ],
   "source": [
    "# cust.head(2)\n",
    "custGender = cust.groupby(['Gender'])['Spending_Score'].count()\n",
    "custGender"
   ]
  },
  {
   "cell_type": "code",
   "execution_count": 200,
   "id": "faa29a9a",
   "metadata": {},
   "outputs": [
    {
     "data": {
      "image/png": "[encoded data removed]",
      "text/plain": [
       "<Figure size 800x600 with 1 Axes>"
      ]
     },
     "metadata": {},
     "output_type": "display_data"
    }
   ],
   "source": [
    "plt.figure(figsize=(8, 6))\n",
    "plt.pie(custGender, labels=custGender.index, autopct='%1.1f%%', startangle=140)\n",
    "plt.title('Avg Spending Score by Gender')\n",
    "plt.axis('equal')\n",
    "plt.show()"
   ]
  },
  {
   "cell_type": "markdown",
   "id": "75aa44ff",
   "metadata": {},
   "source": [
    "#### Answer 1: 59.3% of the women spent more money than the male shoppers"
   ]
  },
  {
   "cell_type": "markdown",
   "id": "fde5d3f8",
   "metadata": {},
   "source": [
    "### Q2. Which  age group spends more money in the shop?"
   ]
  },
  {
   "cell_type": "code",
   "execution_count": 259,
   "id": "5794143f",
   "metadata": {},
   "outputs": [
    {
     "name": "stdout",
     "output_type": "stream",
     "text": [
      "minimum age: 0\n",
      "maximum age: 99\n"
     ]
    }
   ],
   "source": [
    "#identifying the maximum and minimum age in the data frame.\n",
    "# cust.head(2)\n",
    "min_age = cust['Age'].min()\n",
    "max_age = cust['Age'].max()\n",
    "print('minimum age:', min_age)\n",
    "print('maximum age:', max_age)"
   ]
  },
  {
   "cell_type": "code",
   "execution_count": 92,
   "id": "75381162",
   "metadata": {},
   "outputs": [],
   "source": [
    "#classifying age into 4 categories namely: Young, Adult, Senior and Veteran\n",
    "def AgeCat(Age):\n",
    "    if Age <= 25:\n",
    "        return \"Young\"\n",
    "    elif Age <=50:\n",
    "        return \"Adult\"\n",
    "    elif Age <= 75:\n",
    "        return \"Senior\"\n",
    "    else:\n",
    "        return \"Veteran\""
   ]
  },
  {
   "cell_type": "code",
   "execution_count": 295,
   "id": "a6e4e30d",
   "metadata": {},
   "outputs": [
    {
     "data": {
      "text/html": [
       "<div>\n",
       "<style scoped>\n",
       "    .dataframe tbody tr th:only-of-type {\n",
       "        vertical-align: middle;\n",
       "    }\n",
       "\n",
       "    .dataframe tbody tr th {\n",
       "        vertical-align: top;\n",
       "    }\n",
       "\n",
       "    .dataframe thead th {\n",
       "        text-align: right;\n",
       "    }\n",
       "</style>\n",
       "<table border=\"1\" class=\"dataframe\">\n",
       "  <thead>\n",
       "    <tr style=\"text-align: right;\">\n",
       "      <th></th>\n",
       "      <th>CustomerID</th>\n",
       "      <th>Gender</th>\n",
       "      <th>Age</th>\n",
       "      <th>Annual_Income</th>\n",
       "      <th>Spending_Score</th>\n",
       "      <th>Profession</th>\n",
       "      <th>Work_Experience</th>\n",
       "      <th>Family_Size</th>\n",
       "      <th>Age_Category</th>\n",
       "    </tr>\n",
       "  </thead>\n",
       "  <tbody>\n",
       "    <tr>\n",
       "      <th>0</th>\n",
       "      <td>1</td>\n",
       "      <td>Male</td>\n",
       "      <td>19</td>\n",
       "      <td>15000</td>\n",
       "      <td>39</td>\n",
       "      <td>Healthcare</td>\n",
       "      <td>1</td>\n",
       "      <td>4</td>\n",
       "      <td>Young</td>\n",
       "    </tr>\n",
       "    <tr>\n",
       "      <th>1</th>\n",
       "      <td>2</td>\n",
       "      <td>Male</td>\n",
       "      <td>21</td>\n",
       "      <td>35000</td>\n",
       "      <td>81</td>\n",
       "      <td>Engineer</td>\n",
       "      <td>3</td>\n",
       "      <td>3</td>\n",
       "      <td>Young</td>\n",
       "    </tr>\n",
       "    <tr>\n",
       "      <th>2</th>\n",
       "      <td>3</td>\n",
       "      <td>Female</td>\n",
       "      <td>20</td>\n",
       "      <td>86000</td>\n",
       "      <td>6</td>\n",
       "      <td>Engineer</td>\n",
       "      <td>1</td>\n",
       "      <td>1</td>\n",
       "      <td>Young</td>\n",
       "    </tr>\n",
       "    <tr>\n",
       "      <th>3</th>\n",
       "      <td>4</td>\n",
       "      <td>Female</td>\n",
       "      <td>23</td>\n",
       "      <td>59000</td>\n",
       "      <td>77</td>\n",
       "      <td>Lawyer</td>\n",
       "      <td>0</td>\n",
       "      <td>2</td>\n",
       "      <td>Young</td>\n",
       "    </tr>\n",
       "    <tr>\n",
       "      <th>4</th>\n",
       "      <td>5</td>\n",
       "      <td>Female</td>\n",
       "      <td>31</td>\n",
       "      <td>38000</td>\n",
       "      <td>40</td>\n",
       "      <td>Entertainment</td>\n",
       "      <td>2</td>\n",
       "      <td>6</td>\n",
       "      <td>Adult</td>\n",
       "    </tr>\n",
       "    <tr>\n",
       "      <th>...</th>\n",
       "      <td>...</td>\n",
       "      <td>...</td>\n",
       "      <td>...</td>\n",
       "      <td>...</td>\n",
       "      <td>...</td>\n",
       "      <td>...</td>\n",
       "      <td>...</td>\n",
       "      <td>...</td>\n",
       "      <td>...</td>\n",
       "    </tr>\n",
       "    <tr>\n",
       "      <th>1995</th>\n",
       "      <td>1996</td>\n",
       "      <td>Female</td>\n",
       "      <td>71</td>\n",
       "      <td>184387</td>\n",
       "      <td>40</td>\n",
       "      <td>Artist</td>\n",
       "      <td>8</td>\n",
       "      <td>7</td>\n",
       "      <td>Senior</td>\n",
       "    </tr>\n",
       "    <tr>\n",
       "      <th>1996</th>\n",
       "      <td>1997</td>\n",
       "      <td>Female</td>\n",
       "      <td>91</td>\n",
       "      <td>73158</td>\n",
       "      <td>32</td>\n",
       "      <td>Doctor</td>\n",
       "      <td>7</td>\n",
       "      <td>7</td>\n",
       "      <td>Veteran</td>\n",
       "    </tr>\n",
       "    <tr>\n",
       "      <th>1997</th>\n",
       "      <td>1998</td>\n",
       "      <td>Male</td>\n",
       "      <td>87</td>\n",
       "      <td>90961</td>\n",
       "      <td>14</td>\n",
       "      <td>Healthcare</td>\n",
       "      <td>9</td>\n",
       "      <td>2</td>\n",
       "      <td>Veteran</td>\n",
       "    </tr>\n",
       "    <tr>\n",
       "      <th>1998</th>\n",
       "      <td>1999</td>\n",
       "      <td>Male</td>\n",
       "      <td>77</td>\n",
       "      <td>182109</td>\n",
       "      <td>4</td>\n",
       "      <td>Executive</td>\n",
       "      <td>7</td>\n",
       "      <td>2</td>\n",
       "      <td>Veteran</td>\n",
       "    </tr>\n",
       "    <tr>\n",
       "      <th>1999</th>\n",
       "      <td>2000</td>\n",
       "      <td>Male</td>\n",
       "      <td>90</td>\n",
       "      <td>110610</td>\n",
       "      <td>52</td>\n",
       "      <td>Entertainment</td>\n",
       "      <td>5</td>\n",
       "      <td>2</td>\n",
       "      <td>Veteran</td>\n",
       "    </tr>\n",
       "  </tbody>\n",
       "</table>\n",
       "<p>2000 rows × 9 columns</p>\n",
       "</div>"
      ],
      "text/plain": [
       "      CustomerID  Gender  Age  Annual_Income  Spending_Score     Profession  \\\n",
       "0              1    Male   19          15000              39     Healthcare   \n",
       "1              2    Male   21          35000              81       Engineer   \n",
       "2              3  Female   20          86000               6       Engineer   \n",
       "3              4  Female   23          59000              77         Lawyer   \n",
       "4              5  Female   31          38000              40  Entertainment   \n",
       "...          ...     ...  ...            ...             ...            ...   \n",
       "1995        1996  Female   71         184387              40         Artist   \n",
       "1996        1997  Female   91          73158              32         Doctor   \n",
       "1997        1998    Male   87          90961              14     Healthcare   \n",
       "1998        1999    Male   77         182109               4      Executive   \n",
       "1999        2000    Male   90         110610              52  Entertainment   \n",
       "\n",
       "      Work_Experience  Family_Size Age_Category  \n",
       "0                   1            4        Young  \n",
       "1                   3            3        Young  \n",
       "2                   1            1        Young  \n",
       "3                   0            2        Young  \n",
       "4                   2            6        Adult  \n",
       "...               ...          ...          ...  \n",
       "1995                8            7       Senior  \n",
       "1996                7            7      Veteran  \n",
       "1997                9            2      Veteran  \n",
       "1998                7            2      Veteran  \n",
       "1999                5            2      Veteran  \n",
       "\n",
       "[2000 rows x 9 columns]"
      ]
     },
     "execution_count": 295,
     "metadata": {},
     "output_type": "execute_result"
    }
   ],
   "source": [
    "#Adding the Age_Category column into the original data frame\n",
    "# cust.head(2)\n",
    "cust['Age_Category'] = cust['Age'].apply(AgeCat)\n",
    "cust"
   ]
  },
  {
   "cell_type": "code",
   "execution_count": 158,
   "id": "f41b6c9e",
   "metadata": {},
   "outputs": [
    {
     "data": {
      "text/html": [
       "<div>\n",
       "<style scoped>\n",
       "    .dataframe tbody tr th:only-of-type {\n",
       "        vertical-align: middle;\n",
       "    }\n",
       "\n",
       "    .dataframe tbody tr th {\n",
       "        vertical-align: top;\n",
       "    }\n",
       "\n",
       "    .dataframe thead th {\n",
       "        text-align: right;\n",
       "    }\n",
       "</style>\n",
       "<table border=\"1\" class=\"dataframe\">\n",
       "  <thead>\n",
       "    <tr style=\"text-align: right;\">\n",
       "      <th></th>\n",
       "      <th>CustomerID</th>\n",
       "      <th>Gender</th>\n",
       "      <th>Age</th>\n",
       "      <th>Annual_Income</th>\n",
       "      <th>Spending_Score</th>\n",
       "      <th>Profession</th>\n",
       "      <th>Work_Experience</th>\n",
       "      <th>Family_Size</th>\n",
       "      <th>Age_Category</th>\n",
       "    </tr>\n",
       "  </thead>\n",
       "  <tbody>\n",
       "    <tr>\n",
       "      <th>0</th>\n",
       "      <td>1</td>\n",
       "      <td>Male</td>\n",
       "      <td>19</td>\n",
       "      <td>15000</td>\n",
       "      <td>39</td>\n",
       "      <td>Healthcare</td>\n",
       "      <td>1</td>\n",
       "      <td>4</td>\n",
       "      <td>Young</td>\n",
       "    </tr>\n",
       "  </tbody>\n",
       "</table>\n",
       "</div>"
      ],
      "text/plain": [
       "   CustomerID Gender  Age  Annual_Income  Spending_Score  Profession  \\\n",
       "0           1   Male   19          15000              39  Healthcare   \n",
       "\n",
       "   Work_Experience  Family_Size Age_Category  \n",
       "0                1            4        Young  "
      ]
     },
     "execution_count": 158,
     "metadata": {},
     "output_type": "execute_result"
    }
   ],
   "source": [
    "#dropping a column AgeCategory\n",
    "cust.head(1)\n",
    "# cust.drop(['AgeCategory'], axis = 1, inplace = True).reset"
   ]
  },
  {
   "cell_type": "code",
   "execution_count": 413,
   "id": "c647e9c0",
   "metadata": {},
   "outputs": [
    {
     "name": "stderr",
     "output_type": "stream",
     "text": [
      "C:\\Users\\MR FEM\\AppData\\Local\\Temp\\ipykernel_3448\\3001180648.py:5: FutureWarning: Indexing with multiple keys (implicitly converted to a tuple of keys) will be deprecated, use a list instead.\n",
      "  cust.groupby(['Age_Category'])['Age_Category','Spending_Score'].sum()\n"
     ]
    },
    {
     "data": {
      "text/html": [
       "<div>\n",
       "<style scoped>\n",
       "    .dataframe tbody tr th:only-of-type {\n",
       "        vertical-align: middle;\n",
       "    }\n",
       "\n",
       "    .dataframe tbody tr th {\n",
       "        vertical-align: top;\n",
       "    }\n",
       "\n",
       "    .dataframe thead th {\n",
       "        text-align: right;\n",
       "    }\n",
       "</style>\n",
       "<table border=\"1\" class=\"dataframe\">\n",
       "  <thead>\n",
       "    <tr style=\"text-align: right;\">\n",
       "      <th></th>\n",
       "      <th>Spending_Score</th>\n",
       "    </tr>\n",
       "    <tr>\n",
       "      <th>Age_Category</th>\n",
       "      <th></th>\n",
       "    </tr>\n",
       "  </thead>\n",
       "  <tbody>\n",
       "    <tr>\n",
       "      <th>Veteran</th>\n",
       "      <td>23275</td>\n",
       "    </tr>\n",
       "    <tr>\n",
       "      <th>Senior</th>\n",
       "      <td>24786</td>\n",
       "    </tr>\n",
       "    <tr>\n",
       "      <th>Adult</th>\n",
       "      <td>26216</td>\n",
       "    </tr>\n",
       "    <tr>\n",
       "      <th>Young</th>\n",
       "      <td>27648</td>\n",
       "    </tr>\n",
       "  </tbody>\n",
       "</table>\n",
       "</div>"
      ],
      "text/plain": [
       "              Spending_Score\n",
       "Age_Category                \n",
       "Veteran                23275\n",
       "Senior                 24786\n",
       "Adult                  26216\n",
       "Young                  27648"
      ]
     },
     "execution_count": 413,
     "metadata": {},
     "output_type": "execute_result"
    }
   ],
   "source": [
    "# cust.head(2)\n",
    "# CustAge = cust.groupby(['Age_Category'])['Age_Category', 'Spending_Score'].sum()\n",
    "# CustAge\n",
    "\n",
    "cust.groupby(['Age_Category'])['Age_Category','Spending_Score'].sum()\n",
    "CustAge=CustAge.sort_values(by = ['Spending_Score'], ascending = True)\n",
    "CustAge"
   ]
  },
  {
   "cell_type": "code",
   "execution_count": 465,
   "id": "7b3b47de",
   "metadata": {},
   "outputs": [
    {
     "data": {
      "image/png": "[encoded data removed]",
      "text/plain": [
       "<Figure size 640x480 with 1 Axes>"
      ]
     },
     "metadata": {},
     "output_type": "display_data"
    }
   ],
   "source": [
    "# visualizing Total spending score by Age  category\n",
    "\n",
    "for i, score in enumerate(CustAge['Spending_Score']):\n",
    "    plt.annotate(f'{score}', (CustAge.index[i], score), textcoords=\"offset points\", xytext=(0, 5), ha='center')\n",
    "\n",
    "plt.bar(CustAge.index, CustAge['Spending_Score'])\n",
    "plt.xlabel('Age Category')\n",
    "plt.ylabel('Total Spending Score')\n",
    "plt.title('Total Spending Score by Age Category')\n",
    "plt.xticks(rotation=0)\n",
    "plt.show()"
   ]
  },
  {
   "cell_type": "markdown",
   "id": "3b99406b",
   "metadata": {},
   "source": [
    "#### Answer 2: Young people under the age of 25 shopped more at the store"
   ]
  },
  {
   "cell_type": "markdown",
   "id": "910ce897",
   "metadata": {},
   "source": [
    "### Q3. Are Store customers more of small or larger families?"
   ]
  },
  {
   "cell_type": "code",
   "execution_count": 268,
   "id": "64d7ed3e",
   "metadata": {},
   "outputs": [
    {
     "name": "stdout",
     "output_type": "stream",
     "text": [
      "minimum fam_size: 1\n",
      "maximum fam_size: 9\n"
     ]
    }
   ],
   "source": [
    "#identifying max & min family size\n",
    "min_fam = cust['Family_Size'].min()\n",
    "max_fam = cust['Family_Size'].max()\n",
    "print('minimum fam_size:', min_fam)\n",
    "print('maximum fam_size:', max_fam)"
   ]
  },
  {
   "cell_type": "code",
   "execution_count": 460,
   "id": "c69079bb",
   "metadata": {},
   "outputs": [],
   "source": [
    "#classifying Family size into 3 categories namely: Small Family, Medium Family and Large Family\n",
    "# def FamSizeCat(Family_Size):\n",
    "#     if Family_Size == 1:\n",
    "#         return \"Individual\"\n",
    "#     elif Family_Size == 2:\n",
    "#         return \"Couple\"\n",
    "#     elif Family_Size <= 5:\n",
    "#         return \"Small Size Family\"\n",
    "#     elif Family_Size <= 7:\n",
    "#         return \"Medium Size Family\"\n",
    "#     else:\n",
    "#         return \"Large Family\"\n",
    "\n",
    "def FamSizeCat(Family_Size):\n",
    "    if Family_Size <= 5:\n",
    "        return \"Small Size Family\"\n",
    "    elif Family_Size <= 7:\n",
    "        return \"Medium Size Family\"\n",
    "    else:\n",
    "        return \"Large Family\""
   ]
  },
  {
   "cell_type": "code",
   "execution_count": 461,
   "id": "ca87a1e7",
   "metadata": {},
   "outputs": [
    {
     "data": {
      "text/html": [
       "<div>\n",
       "<style scoped>\n",
       "    .dataframe tbody tr th:only-of-type {\n",
       "        vertical-align: middle;\n",
       "    }\n",
       "\n",
       "    .dataframe tbody tr th {\n",
       "        vertical-align: top;\n",
       "    }\n",
       "\n",
       "    .dataframe thead th {\n",
       "        text-align: right;\n",
       "    }\n",
       "</style>\n",
       "<table border=\"1\" class=\"dataframe\">\n",
       "  <thead>\n",
       "    <tr style=\"text-align: right;\">\n",
       "      <th></th>\n",
       "      <th>CustomerID</th>\n",
       "      <th>Gender</th>\n",
       "      <th>Age</th>\n",
       "      <th>Annual_Income</th>\n",
       "      <th>Spending_Score</th>\n",
       "      <th>Profession</th>\n",
       "      <th>Work_Experience</th>\n",
       "      <th>Family_Size</th>\n",
       "      <th>Age_Category</th>\n",
       "      <th>Fam_Category</th>\n",
       "    </tr>\n",
       "  </thead>\n",
       "  <tbody>\n",
       "    <tr>\n",
       "      <th>0</th>\n",
       "      <td>1</td>\n",
       "      <td>Male</td>\n",
       "      <td>19</td>\n",
       "      <td>15000</td>\n",
       "      <td>39</td>\n",
       "      <td>Healthcare</td>\n",
       "      <td>1</td>\n",
       "      <td>4</td>\n",
       "      <td>Young</td>\n",
       "      <td>Small Size Family</td>\n",
       "    </tr>\n",
       "    <tr>\n",
       "      <th>1</th>\n",
       "      <td>2</td>\n",
       "      <td>Male</td>\n",
       "      <td>21</td>\n",
       "      <td>35000</td>\n",
       "      <td>81</td>\n",
       "      <td>Engineer</td>\n",
       "      <td>3</td>\n",
       "      <td>3</td>\n",
       "      <td>Young</td>\n",
       "      <td>Small Size Family</td>\n",
       "    </tr>\n",
       "  </tbody>\n",
       "</table>\n",
       "</div>"
      ],
      "text/plain": [
       "   CustomerID Gender  Age  Annual_Income  Spending_Score  Profession  \\\n",
       "0           1   Male   19          15000              39  Healthcare   \n",
       "1           2   Male   21          35000              81    Engineer   \n",
       "\n",
       "   Work_Experience  Family_Size Age_Category       Fam_Category  \n",
       "0                1            4        Young  Small Size Family  \n",
       "1                3            3        Young  Small Size Family  "
      ]
     },
     "execution_count": 461,
     "metadata": {},
     "output_type": "execute_result"
    }
   ],
   "source": [
    "#Adding the fam_Category column into the original data frame\n",
    "# cust.head(2)\n",
    "cust['Fam_Category'] = cust['Family_Size'].apply(FamSizeCat)\n",
    "cust.head(2)"
   ]
  },
  {
   "cell_type": "code",
   "execution_count": 467,
   "id": "db057f33",
   "metadata": {},
   "outputs": [
    {
     "data": {
      "text/plain": [
       "Fam_Category\n",
       "Large Family          42.800000\n",
       "Medium Size Family    49.966457\n",
       "Small Size Family     51.302372\n",
       "Name: Spending_Score, dtype: float64"
      ]
     },
     "execution_count": 467,
     "metadata": {},
     "output_type": "execute_result"
    }
   ],
   "source": [
    "CustFam = cust.groupby(['Fam_Category'])['Spending_Score'].mean()\n",
    "CustFam\n",
    "# CustFam2=CustFam.sort_values( by = ['Fam_Category']), ascending = True)"
   ]
  },
  {
   "cell_type": "code",
   "execution_count": 463,
   "id": "3ec415f0",
   "metadata": {},
   "outputs": [
    {
     "data": {
      "image/png": "[encoded data removed]",
      "text/plain": [
       "<Figure size 800x600 with 1 Axes>"
      ]
     },
     "metadata": {},
     "output_type": "display_data"
    }
   ],
   "source": [
    "# CustFam.head(2)\n",
    "# visualizing Total spending score by family size\n",
    "\n",
    "plt.figure(figsize = (8, 6))\n",
    "plt.pie(CustFam, labels = CustFam.index, autopct='%1.1f%%', startangle=140)\n",
    "plt.title('Spending by Family Size')\n",
    "plt.axis('equal')\n",
    "plt.show()"
   ]
  },
  {
   "cell_type": "markdown",
   "id": "3f326d1c",
   "metadata": {},
   "source": [
    "#### Answer 3: Families less than 5 purchased more at the store"
   ]
  },
  {
   "cell_type": "markdown",
   "id": "5d996bfa",
   "metadata": {},
   "source": [
    "### Q4. What class of profession spends more in the store?"
   ]
  },
  {
   "cell_type": "code",
   "execution_count": 447,
   "id": "b28ff486",
   "metadata": {},
   "outputs": [],
   "source": [
    "# cust.head(2)\n",
    "cust.groupby(['Profession']).agg({'Annual_Income':'mean', 'Spending_Score':'sum'}).round(1)\n",
    "CustProf = cust_prof.sort_values(by = ['Spending_Score'], ascending = True)\n",
    "CustProf"
   ]
  },
  {
   "cell_type": "code",
   "execution_count": 475,
   "id": "4dbd7c93",
   "metadata": {},
   "outputs": [
    {
     "data": {
      "image/png": "[encoded data removed]",
      "text/plain": [
       "<Figure size 900x600 with 1 Axes>"
      ]
     },
     "metadata": {},
     "output_type": "display_data"
    }
   ],
   "source": [
    "# visualizing Total spending score by profession\n",
    "# for i, score in enumerate(CustProf['Spending_Score']):\n",
    "#     plt.annotate(f'{score}', (CustProf.index[i], score), textcoords=\"offset points\", xytext=(0, 5), ha='center')\n",
    "    \n",
    "plt.figure(figsize=(9, 6))\n",
    "plt.barh(CustProf.index, CustProf['Spending_Score'], color='blue')\n",
    "plt.xlabel('Profession')\n",
    "plt.ylabel('Total Spending Score')\n",
    "plt.title('Total Spending Score by Profession')\n",
    "plt.xticks(rotation=45)\n",
    "plt.tight_layout()"
   ]
  },
  {
   "cell_type": "markdown",
   "id": "101f174a",
   "metadata": {},
   "source": [
    "\n",
    "***Answer: Artist spent more in the store. Possible increased investment in Art releated stocks.***"
   ]
  },
  {
   "cell_type": "markdown",
   "id": "b153c41c",
   "metadata": {},
   "source": [
    "###### Prepared by: Femi Komolafe"
   ]
  }
 ],
 "metadata": {
  "kernelspec": {
   "display_name": "Python 3 (ipykernel)",
   "language": "python",
   "name": "python3"
  },
  "language_info": {
   "codemirror_mode": {
    "name": "ipython",
    "version": 3
   },
   "file_extension": ".py",
   "mimetype": "text/x-python",
   "name": "python",
   "nbconvert_exporter": "python",
   "pygments_lexer": "ipython3",
   "version": "3.9.13"
  }
 },
 "nbformat": 4,
 "nbformat_minor": 5
}
